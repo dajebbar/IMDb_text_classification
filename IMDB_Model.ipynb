{
  "nbformat": 4,
  "nbformat_minor": 0,
  "metadata": {
    "colab": {
      "name": "IMDB Model.ipynb",
      "provenance": [],
      "collapsed_sections": [],
      "authorship_tag": "ABX9TyOVsRgg4ZGEp4lf2hthGmdJ",
      "include_colab_link": true
    },
    "kernelspec": {
      "name": "python3",
      "display_name": "Python 3"
    }
  },
  "cells": [
    {
      "cell_type": "markdown",
      "metadata": {
        "id": "view-in-github",
        "colab_type": "text"
      },
      "source": [
        "<a href=\"https://colab.research.google.com/github/dajebbar/IMDb_text_classification/blob/main/IMDB_Model.ipynb\" target=\"_parent\"><img src=\"https://colab.research.google.com/assets/colab-badge.svg\" alt=\"Open In Colab\"/></a>"
      ]
    },
    {
      "cell_type": "code",
      "metadata": {
        "id": "nPQSifcJ2HOf",
        "colab": {
          "base_uri": "https://localhost:8080/"
        },
        "outputId": "01401d09-fa68-44b7-e9f6-b03cd97a0217"
      },
      "source": [
        "from google.colab import drive\r\n",
        "drive.mount(\"/content/drive\")"
      ],
      "execution_count": 1,
      "outputs": [
        {
          "output_type": "stream",
          "text": [
            "Drive already mounted at /content/drive; to attempt to forcibly remount, call drive.mount(\"/content/drive\", force_remount=True).\n"
          ],
          "name": "stdout"
        }
      ]
    },
    {
      "cell_type": "code",
      "metadata": {
        "id": "HIruZRASoVe5"
      },
      "source": [
        "import numpy as np\r\n",
        "import pandas as pd\r\n",
        "import matplotlib.pyplot as plt\r\n",
        "\r\n",
        "plt.style.use('fivethirtyeight')\r\n",
        "%matplotlib inline"
      ],
      "execution_count": 2,
      "outputs": []
    },
    {
      "cell_type": "code",
      "metadata": {
        "colab": {
          "base_uri": "https://localhost:8080/",
          "height": 204
        },
        "id": "y_BV4jzHo9sg",
        "outputId": "a8cb9f64-c01c-4bd8-a11e-919663571342"
      },
      "source": [
        "imdb = pd.read_csv('/content/drive/MyDrive/datasets/imdb.txt')\r\n",
        "imdb.head()"
      ],
      "execution_count": 3,
      "outputs": [
        {
          "output_type": "execute_result",
          "data": {
            "text/html": [
              "<div>\n",
              "<style scoped>\n",
              "    .dataframe tbody tr th:only-of-type {\n",
              "        vertical-align: middle;\n",
              "    }\n",
              "\n",
              "    .dataframe tbody tr th {\n",
              "        vertical-align: top;\n",
              "    }\n",
              "\n",
              "    .dataframe thead th {\n",
              "        text-align: right;\n",
              "    }\n",
              "</style>\n",
              "<table border=\"1\" class=\"dataframe\">\n",
              "  <thead>\n",
              "    <tr style=\"text-align: right;\">\n",
              "      <th></th>\n",
              "      <th>class</th>\n",
              "      <th>clean_text</th>\n",
              "    </tr>\n",
              "  </thead>\n",
              "  <tbody>\n",
              "    <tr>\n",
              "      <th>0</th>\n",
              "      <td>0</td>\n",
              "      <td>slow moving aimless movie distressed drifting ...</td>\n",
              "    </tr>\n",
              "    <tr>\n",
              "      <th>1</th>\n",
              "      <td>0</td>\n",
              "      <td>not sure lost flat characters audience nearly ...</td>\n",
              "    </tr>\n",
              "    <tr>\n",
              "      <th>2</th>\n",
              "      <td>0</td>\n",
              "      <td>attempting artiness black white clever camera ...</td>\n",
              "    </tr>\n",
              "    <tr>\n",
              "      <th>3</th>\n",
              "      <td>0</td>\n",
              "      <td>little music anything speak</td>\n",
              "    </tr>\n",
              "    <tr>\n",
              "      <th>4</th>\n",
              "      <td>1</td>\n",
              "      <td>best scene movie gerardo trying find song keep...</td>\n",
              "    </tr>\n",
              "  </tbody>\n",
              "</table>\n",
              "</div>"
            ],
            "text/plain": [
              "   class                                         clean_text\n",
              "0      0  slow moving aimless movie distressed drifting ...\n",
              "1      0  not sure lost flat characters audience nearly ...\n",
              "2      0  attempting artiness black white clever camera ...\n",
              "3      0                        little music anything speak\n",
              "4      1  best scene movie gerardo trying find song keep..."
            ]
          },
          "metadata": {
            "tags": []
          },
          "execution_count": 3
        }
      ]
    },
    {
      "cell_type": "code",
      "metadata": {
        "id": "7nCoUSfIpU9X"
      },
      "source": [
        "# split data\r\n",
        "X = imdb['clean_text'].values\r\n",
        "y = imdb['class'].values"
      ],
      "execution_count": 4,
      "outputs": []
    },
    {
      "cell_type": "code",
      "metadata": {
        "colab": {
          "base_uri": "https://localhost:8080/"
        },
        "id": "rTcVSxdfpyhZ",
        "outputId": "a33ff74a-b27e-4a9c-b0ce-5c9a10baab8c"
      },
      "source": [
        "# train and test sets\r\n",
        "from sklearn.model_selection import train_test_split\r\n",
        "\r\n",
        "X_train, X_test, y_train, y_test = train_test_split(X, y, test_size=0.2, random_state=42)\r\n",
        "\r\n",
        "print(f\"Train set: {X_train.shape}\")\r\n",
        "print(f\"Test set: {X_test.shape}\")\r\n",
        "print(type(X_train))"
      ],
      "execution_count": 5,
      "outputs": [
        {
          "output_type": "stream",
          "text": [
            "Train set: (596,)\n",
            "Test set: (150,)\n",
            "<class 'numpy.ndarray'>\n"
          ],
          "name": "stdout"
        }
      ]
    },
    {
      "cell_type": "code",
      "metadata": {
        "id": "XCtOQ6qtqtXC"
      },
      "source": [
        "# BoW\r\n",
        "from sklearn.feature_extraction.text import CountVectorizer\r\n",
        "vectorizer = CountVectorizer()\r\n",
        "\r\n",
        "# fit has to happen only on train data\r\n",
        "vectorizer.fit(X_train)\r\n",
        "\r\n",
        "# transform\r\n",
        "X_train_bow = vectorizer.transform(X_train)\r\n",
        "X_test_bow = vectorizer.transform(X_test)"
      ],
      "execution_count": 6,
      "outputs": []
    },
    {
      "cell_type": "markdown",
      "metadata": {
        "id": "-Xz5FmEqxGih"
      },
      "source": [
        "# Applying K-NN"
      ]
    },
    {
      "cell_type": "code",
      "metadata": {
        "colab": {
          "base_uri": "https://localhost:8080/",
          "height": 279
        },
        "id": "i2yDoDx9ucK1",
        "outputId": "881dd884-de57-4da4-a33d-98315e8d39d7"
      },
      "source": [
        "from sklearn.neighbors import KNeighborsClassifier\r\n",
        "from sklearn.model_selection import validation_curve\r\n",
        "\r\n",
        "k = list(range(1,50))\r\n",
        "\r\n",
        "model = KNeighborsClassifier()\r\n",
        "train_score, val_score = validation_curve(model, X_train_bow, y_train, 'n_neighbors', k, cv=10)\r\n",
        "\r\n",
        "plt.plot(k, val_score.mean(axis=1), label='Validation')\r\n",
        "plt.plot(k, train_score.mean(axis=1), label='Train')\r\n",
        "\r\n",
        "plt.xlabel('Number of Neighbors K')\r\n",
        "plt.ylabel('Accuracy on CV set')\r\n",
        "plt.legend()\r\n",
        "plt.show()"
      ],
      "execution_count": 37,
      "outputs": [
        {
          "output_type": "display_data",
          "data": {
            "image/png": "[encoded data removed]",
            "text/plain": [
              "<Figure size 432x288 with 1 Axes>"
            ]
          },
          "metadata": {
            "tags": [],
            "needs_background": "light"
          }
        }
      ]
    },
    {
      "cell_type": "code",
      "metadata": {
        "colab": {
          "base_uri": "https://localhost:8080/"
        },
        "id": "QDiEiSxh22IY",
        "outputId": "d0ccc973-42fd-423e-aede-d10eb9adb348"
      },
      "source": [
        "# GreadSearchCV\r\n",
        "from sklearn.model_selection import GridSearchCV\r\n",
        "\r\n",
        "param_grid = {\r\n",
        "    'n_neighbors': k,\r\n",
        "    'metric': ['euclidean', 'manhattan', 'minkowski']\r\n",
        "}\r\n",
        "\r\n",
        "grid = GridSearchCV(KNeighborsClassifier(), param_grid=param_grid, cv=10, scoring='accuracy')\r\n",
        "grid.fit(X_train_bow, y_train)"
      ],
      "execution_count": 40,
      "outputs": [
        {
          "output_type": "execute_result",
          "data": {
            "text/plain": [
              "GridSearchCV(cv=10, error_score=nan,\n",
              "             estimator=KNeighborsClassifier(algorithm='auto', leaf_size=30,\n",
              "                                            metric='minkowski',\n",
              "                                            metric_params=None, n_jobs=None,\n",
              "                                            n_neighbors=5, p=2,\n",
              "                                            weights='uniform'),\n",
              "             iid='deprecated', n_jobs=None,\n",
              "             param_grid={'metric': ['euclidean', 'manhattan', 'minkowski'],\n",
              "                         'n_neighbors': [1, 2, 3, 4, 5, 6, 7, 8, 9, 10, 11, 12,\n",
              "                                         13, 14, 15, 16, 17, 18, 19, 20, 21, 22,\n",
              "                                         23, 24, 25, 26, 27, 28, 29, 30, ...]},\n",
              "             pre_dispatch='2*n_jobs', refit=True, return_train_score=False,\n",
              "             scoring='accuracy', verbose=0)"
            ]
          },
          "metadata": {
            "tags": []
          },
          "execution_count": 40
        }
      ]
    },
    {
      "cell_type": "code",
      "metadata": {
        "colab": {
          "base_uri": "https://localhost:8080/"
        },
        "id": "o_UZadGO3vQW",
        "outputId": "528a0ce2-d7e3-4a69-8054-6203405503d5"
      },
      "source": [
        "print(f\"Best score: {grid.best_score_ * 100.0}%\")\r\n",
        "print(f\"best parameters: {grid.best_params_}\")"
      ],
      "execution_count": 41,
      "outputs": [
        {
          "output_type": "stream",
          "text": [
            "Best score: 66.61299435028248%\n",
            "best parameters: {'metric': 'manhattan', 'n_neighbors': 1}\n"
          ],
          "name": "stdout"
        }
      ]
    },
    {
      "cell_type": "code",
      "metadata": {
        "colab": {
          "base_uri": "https://localhost:8080/"
        },
        "id": "FltxktND4m-_",
        "outputId": "ef1012b4-6d69-45fd-b200-a78e9242a867"
      },
      "source": [
        "# save model\r\n",
        "model = grid.best_estimator_\r\n",
        "\r\n",
        "print(f\"The accuracy of the knn classifier for k = 1 is {model.score(X_test_bow, y_test) * 100.0}%\")"
      ],
      "execution_count": 42,
      "outputs": [
        {
          "output_type": "stream",
          "text": [
            "The accuracy of the knn classifier for k = 1 is 65.33333333333333%\n"
          ],
          "name": "stdout"
        }
      ]
    },
    {
      "cell_type": "markdown",
      "metadata": {
        "id": "PhGuTZkNFCFa"
      },
      "source": [
        "# Plot Accuracy"
      ]
    },
    {
      "cell_type": "code",
      "metadata": {
        "id": "4RVxOAAe5I-w"
      },
      "source": [
        "#Setup arrays to store training and test accuracies\n",
        "neighbors = list(range(1,50))\n",
        "train_accuracy = np.empty(len(neighbors))\n",
        "test_accuracy = np.empty(len(neighbors))\n",
        "\n",
        "\n",
        "for i,k in enumerate(neighbors):\n",
        "    knn_model = KNeighborsClassifier(n_neighbors=k)\n",
        "    #Fit the model\n",
        "    knn_model.fit(X_train_bow, y_train)\n",
        "    #Compute accuracy on the training set\n",
        "    train_accuracy[i] = knn_model.score(X_train_bow, y_train)\n",
        "    \n",
        "    #Compute accuracy on the test set\n",
        "    test_accuracy[i] = knn_model.score(X_test_bow, y_test) "
      ],
      "execution_count": 13,
      "outputs": []
    },
    {
      "cell_type": "code",
      "metadata": {
        "colab": {
          "base_uri": "https://localhost:8080/",
          "height": 296
        },
        "id": "d9cSwlO5GU4l",
        "outputId": "608a350f-04fc-4e1d-dc99-2e7fa3c1aa95"
      },
      "source": [
        "# generate plot\n",
        "plt.title('k-NN Varying number of neighbors')\n",
        "plt.plot(neighbors, test_accuracy, label='Testing Accuracy')\n",
        "plt.plot(neighbors, train_accuracy, label='Training accuracy')\n",
        "plt.legend()\n",
        "plt.xlabel('Number of neighbors')\n",
        "plt.ylabel('Accuracy')\n",
        "plt.show()"
      ],
      "execution_count": 15,
      "outputs": [
        {
          "output_type": "display_data",
          "data": {
            "image/png": "[encoded data removed]",
            "text/plain": [
              "<Figure size 432x288 with 1 Axes>"
            ]
          },
          "metadata": {
            "tags": [],
            "needs_background": "light"
          }
        }
      ]
    },
    {
      "cell_type": "code",
      "metadata": {
        "colab": {
          "base_uri": "https://localhost:8080/"
        },
        "id": "fHUG7h26H315",
        "outputId": "965439c0-e5a3-4055-94db-05d9ffdf5133"
      },
      "source": [
        "#Setup a knn classifier with k neighbors\n",
        "knn_model = KNeighborsClassifier(n_neighbors=1)\n",
        "#Fit the model\n",
        "knn_model.fit(X_train_bow,y_train)\n",
        "\n",
        "#Get accuracy. Note: In case of classification algorithms score method represents accuracy.\n",
        "knn_model.score(X_test_bow,y_test)\n"
      ],
      "execution_count": 18,
      "outputs": [
        {
          "output_type": "execute_result",
          "data": {
            "text/plain": [
              "0.6466666666666666"
            ]
          },
          "metadata": {
            "tags": []
          },
          "execution_count": 18
        }
      ]
    },
    {
      "cell_type": "markdown",
      "metadata": {
        "id": "POSdPdvZIkct"
      },
      "source": [
        "# Confusion matrix"
      ]
    },
    {
      "cell_type": "code",
      "metadata": {
        "colab": {
          "base_uri": "https://localhost:8080/"
        },
        "id": "UebiHcu0INTX",
        "outputId": "8a1c4d3e-a2de-461e-ea5c-4988cdc07621"
      },
      "source": [
        "#import confusion_matrix\n",
        "from sklearn.metrics import confusion_matrix, plot_confusion_matrix\n",
        "\n",
        "#let us get the predictions using the classifier we had fit above\n",
        "y_bow_pred = knn_model.predict(X_test_bow)\n",
        "confusion_matrix(y_bow_pred, y_test)"
      ],
      "execution_count": 20,
      "outputs": [
        {
          "output_type": "execute_result",
          "data": {
            "text/plain": [
              "array([[63, 38],\n",
              "       [15, 34]])"
            ]
          },
          "metadata": {
            "tags": []
          },
          "execution_count": 20
        }
      ]
    },
    {
      "cell_type": "code",
      "metadata": {
        "colab": {
          "base_uri": "https://localhost:8080/",
          "height": 279
        },
        "id": "eGhicot3JfGt",
        "outputId": "c36f94d2-295b-4d06-e81e-1d05f2411dcf"
      },
      "source": [
        "plot_confusion_matrix(knn_model, X_test_bow, y_test)  \n",
        "plt.show()  "
      ],
      "execution_count": 21,
      "outputs": [
        {
          "output_type": "display_data",
          "data": {
            "image/png": "[encoded data removed]",
            "text/plain": [
              "<Figure size 432x288 with 2 Axes>"
            ]
          },
          "metadata": {
            "tags": [],
            "needs_background": "light"
          }
        }
      ]
    },
    {
      "cell_type": "code",
      "metadata": {
        "colab": {
          "base_uri": "https://localhost:8080/",
          "height": 173
        },
        "id": "5RZdE5WDJgjE",
        "outputId": "866dcf79-c4dc-4e9a-a19b-83d1437eb819"
      },
      "source": [
        "# Confusion matrix can also be obtained using crosstab method of pandas.\n",
        "\n",
        "pd.crosstab(y_test, y_bow_pred, rownames=['Predicted'], colnames=['Actual'], margins=True)"
      ],
      "execution_count": 24,
      "outputs": [
        {
          "output_type": "execute_result",
          "data": {
            "text/html": [
              "<div>\n",
              "<style scoped>\n",
              "    .dataframe tbody tr th:only-of-type {\n",
              "        vertical-align: middle;\n",
              "    }\n",
              "\n",
              "    .dataframe tbody tr th {\n",
              "        vertical-align: top;\n",
              "    }\n",
              "\n",
              "    .dataframe thead th {\n",
              "        text-align: right;\n",
              "    }\n",
              "</style>\n",
              "<table border=\"1\" class=\"dataframe\">\n",
              "  <thead>\n",
              "    <tr style=\"text-align: right;\">\n",
              "      <th>Actual</th>\n",
              "      <th>0</th>\n",
              "      <th>1</th>\n",
              "      <th>All</th>\n",
              "    </tr>\n",
              "    <tr>\n",
              "      <th>Predicted</th>\n",
              "      <th></th>\n",
              "      <th></th>\n",
              "      <th></th>\n",
              "    </tr>\n",
              "  </thead>\n",
              "  <tbody>\n",
              "    <tr>\n",
              "      <th>0</th>\n",
              "      <td>63</td>\n",
              "      <td>15</td>\n",
              "      <td>78</td>\n",
              "    </tr>\n",
              "    <tr>\n",
              "      <th>1</th>\n",
              "      <td>38</td>\n",
              "      <td>34</td>\n",
              "      <td>72</td>\n",
              "    </tr>\n",
              "    <tr>\n",
              "      <th>All</th>\n",
              "      <td>101</td>\n",
              "      <td>49</td>\n",
              "      <td>150</td>\n",
              "    </tr>\n",
              "  </tbody>\n",
              "</table>\n",
              "</div>"
            ],
            "text/plain": [
              "Actual       0   1  All\n",
              "Predicted              \n",
              "0           63  15   78\n",
              "1           38  34   72\n",
              "All        101  49  150"
            ]
          },
          "metadata": {
            "tags": []
          },
          "execution_count": 24
        }
      ]
    },
    {
      "cell_type": "markdown",
      "metadata": {
        "id": "jevsjPSmKUZQ"
      },
      "source": [
        "##Classification Report\n",
        "\n",
        "Another important report is the Classification report. It is a text summary of the precision, recall, F1 score for each class. Scikit-learn provides facility to calculate Classification report using the classification_report method."
      ]
    },
    {
      "cell_type": "code",
      "metadata": {
        "id": "7fB0PgiTJ_jD"
      },
      "source": [
        "#import classification_report\n",
        "from sklearn.metrics import classification_report"
      ],
      "execution_count": 25,
      "outputs": []
    },
    {
      "cell_type": "code",
      "metadata": {
        "colab": {
          "base_uri": "https://localhost:8080/"
        },
        "id": "MhPsDEevKa8k",
        "outputId": "d1b5031a-adbc-4a53-a646-edf4a10b26e4"
      },
      "source": [
        "print(classification_report(y_test,y_bow_pred))"
      ],
      "execution_count": 26,
      "outputs": [
        {
          "output_type": "stream",
          "text": [
            "              precision    recall  f1-score   support\n",
            "\n",
            "           0       0.62      0.81      0.70        78\n",
            "           1       0.69      0.47      0.56        72\n",
            "\n",
            "    accuracy                           0.65       150\n",
            "   macro avg       0.66      0.64      0.63       150\n",
            "weighted avg       0.66      0.65      0.64       150\n",
            "\n"
          ],
          "name": "stdout"
        }
      ]
    },
    {
      "cell_type": "markdown",
      "metadata": {
        "id": "OCZxU0ZzKrOm"
      },
      "source": [
        "## ROC (Reciever Operating Charecteristic) curve\n",
        "\n",
        "It is a plot of the true positive rate against the false positive rate for the different possible cutpoints of a diagnostic test.\n",
        "\n",
        "An ROC curve demonstrates several things:\n",
        "\n",
        "  - 1) It shows the tradeoff between sensitivity and specificity (any increase in sensitivity will be accompanied by a decrease in specificity).\n",
        "\n",
        "  - 2) The closer the curve follows the left-hand border and then the top border of the ROC space, the more accurate the test.\n",
        "\n",
        "- 3)The closer the curve comes to the 45-degree diagonal of the ROC space, the less accurate the test.\n",
        "\n",
        "- 4) The area under the curve is a measure of test accuracy."
      ]
    },
    {
      "cell_type": "code",
      "metadata": {
        "id": "n3b-OJgaKgub"
      },
      "source": [
        "y_bow_pred_proba = knn_model.predict_proba(X_test_bow)[:,1]"
      ],
      "execution_count": 27,
      "outputs": []
    },
    {
      "cell_type": "code",
      "metadata": {
        "id": "GupKUJxqLjg1"
      },
      "source": [
        "from sklearn.metrics import roc_curve"
      ],
      "execution_count": 28,
      "outputs": []
    },
    {
      "cell_type": "code",
      "metadata": {
        "id": "YbuzBKNPLrFx"
      },
      "source": [
        "fpr, tpr, thresholds = roc_curve(y_test, y_bow_pred_proba)"
      ],
      "execution_count": 29,
      "outputs": []
    },
    {
      "cell_type": "code",
      "metadata": {
        "colab": {
          "base_uri": "https://localhost:8080/",
          "height": 296
        },
        "id": "LBz6a4oALy4N",
        "outputId": "d4e888c5-be86-4861-d709-019a3509274d"
      },
      "source": [
        "plt.plot([0,1],[0,1],'k--')\n",
        "plt.plot(fpr,tpr, label='Knn')\n",
        "plt.xlabel('fpr')\n",
        "plt.ylabel('tpr')\n",
        "plt.title('Knn(n_neighbors=1) ROC curve')\n",
        "plt.show()"
      ],
      "execution_count": 30,
      "outputs": [
        {
          "output_type": "display_data",
          "data": {
            "image/png": "[encoded data removed]",
            "text/plain": [
              "<Figure size 432x288 with 1 Axes>"
            ]
          },
          "metadata": {
            "tags": [],
            "needs_background": "light"
          }
        }
      ]
    },
    {
      "cell_type": "code",
      "metadata": {
        "colab": {
          "base_uri": "https://localhost:8080/"
        },
        "id": "ScqVXAyqL3g5",
        "outputId": "91888ea7-24e8-4465-bfa2-59c42fd801ce"
      },
      "source": [
        "#Area under ROC curve\n",
        "from sklearn.metrics import roc_auc_score\n",
        "roc_auc_score(y_test,y_bow_pred_proba)"
      ],
      "execution_count": 32,
      "outputs": [
        {
          "output_type": "execute_result",
          "data": {
            "text/plain": [
              "0.6399572649572649"
            ]
          },
          "metadata": {
            "tags": []
          },
          "execution_count": 32
        }
      ]
    },
    {
      "cell_type": "code",
      "metadata": {
        "id": "viusCt2bMIas"
      },
      "source": [
        ""
      ],
      "execution_count": null,
      "outputs": []
    }
  ]
}